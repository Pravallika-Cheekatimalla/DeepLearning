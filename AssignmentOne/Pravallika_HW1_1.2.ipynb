{
 "cells": [
  {
   "cell_type": "code",
   "execution_count": 1,
   "id": "448fac5b-873f-4fb8-9650-d814b35458e6",
   "metadata": {
    "tags": []
   },
   "outputs": [],
   "source": [
    "import numpy as np\n",
    "import torch\n",
    "import matplotlib.pyplot as plt\n",
    "import torch.nn as nn\n",
    "import torchvision.datasets as datasets\n",
    "import torchvision.transforms as tf\n",
    "import torch.nn.functional as F\n",
    "import torch.optim as optim\n",
    "from torch.autograd import Variable\n",
    "\n",
    "data_folder = './data'\n",
    "transform_pipeline = tf.Compose([\n",
    "    tf.ToTensor(),\n",
    "    tf.Normalize((0.1307,), (0.3081,)),\n",
    "    tf.Resize((32, 32))\n",
    "])"
   ]
  },
  {
   "cell_type": "code",
   "execution_count": 2,
   "id": "647e94de-5f0a-49b2-a64b-00b33bee4673",
   "metadata": {
    "tags": []
   },
   "outputs": [],
   "source": [
    "# Download MNIST dataset\n",
    "train_dataset = datasets.MNIST(root=data_folder, train=True, transform=transform_pipeline, download=True)\n",
    "test_dataset = datasets.MNIST(root=data_folder, train=False, transform=transform_pipeline, download=True)\n"
   ]
  },
  {
   "cell_type": "code",
   "execution_count": 3,
   "id": "ca98219b-244f-4c9c-9640-ba754ff40dc6",
   "metadata": {
    "tags": []
   },
   "outputs": [],
   "source": [
    "def create_data_loaders(train_batch_size, test_batch_size):\n",
    "    train_loader = torch.utils.data.DataLoader(\n",
    "        dataset=train_dataset,\n",
    "        batch_size=train_batch_size,\n",
    "        shuffle=True\n",
    "    )\n",
    "    test_loader = torch.utils.data.DataLoader(\n",
    "        dataset=test_dataset,\n",
    "        batch_size=test_batch_size,\n",
    "        shuffle=True\n",
    "    )\n",
    "    return train_loader, test_loader\n"
   ]
  },
  {
   "cell_type": "code",
   "execution_count": 4,
   "id": "314ce8f6-a096-4456-a585-bfc48ea36007",
   "metadata": {
    "tags": []
   },
   "outputs": [],
   "source": [
    "class SimpleCNN(nn.Module):\n",
    "    def __init__(self):\n",
    "        super(SimpleCNN, self).__init__()\n",
    "        self.conv1 = nn.Conv2d(1, 6, 5)\n",
    "        self.conv2 = nn.Conv2d(6, 16, 5)\n",
    "        self.fc1 = nn.Linear(16 * 5 * 5, 120)\n",
    "        self.fc2 = nn.Linear(120, 84)\n",
    "        self.fc3 = nn.Linear(84, 10)\n",
    "\n",
    "    def forward(self, x):\n",
    "        x = F.max_pool2d(F.relu(self.conv1(x)), 2)\n",
    "        x = F.max_pool2d(F.relu(self.conv2(x)), 2)\n",
    "        x = x.view(x.size(0), -1)\n",
    "        x = F.relu(self.fc1(x))\n",
    "        x = F.relu(self.fc2(x))\n",
    "        return self.fc3(x)\n"
   ]
  },
  {
   "cell_type": "code",
   "execution_count": 5,
   "id": "01c6b136-c2a0-4922-b7fe-13c911c45e9c",
   "metadata": {
    "tags": []
   },
   "outputs": [],
   "source": [
    "def train_network(network, criterion, epoch_count, data_loader, optimizer):\n",
    "    avg_loss = 0\n",
    "    total_samples = 0\n",
    "    correct_count = 0\n",
    "    total_loss = 0\n",
    "    for batch_idx, (images, labels) in enumerate(data_loader):\n",
    "        optimizer.zero_grad()\n",
    "        images, labels = Variable(images), Variable(labels)\n",
    "        outputs = network(images)\n",
    "        loss = criterion(outputs, labels)\n",
    "        loss.backward()\n",
    "        optimizer.step()\n",
    "        predicted_classes = np.argmax(outputs.data, axis=1)\n",
    "        \n",
    "        total_samples += labels.size(0)\n",
    "        correct_count += (predicted_classes == labels).sum().item()\n",
    "        accuracy = 100.0 * correct_count / total_samples\n",
    "        total_loss += loss.data\n",
    "        \n",
    "        if (batch_idx + 1) % 150 == 0 or (batch_idx + 1) == len(data_loader):\n",
    "            print(f'Epoch: {epoch_count}, Batch: {batch_idx + 1}, Accuracy: {accuracy:.2f}%, Loss: {loss.data:.6f}')\n",
    "\n",
    "    avg_loss = total_loss / (batch_idx + 1)\n",
    "    return avg_loss, round(accuracy, 2)"
   ]
  },
  {
   "cell_type": "code",
   "execution_count": 6,
   "id": "158a7526-b3ae-4416-a5f3-eb4aad239ab6",
   "metadata": {
    "tags": []
   },
   "outputs": [
    {
     "name": "stdout",
     "output_type": "stream",
     "text": [
      "Epoch: 1, Batch: 150, Accuracy: 53.85%, Loss: 0.278477\n",
      "Epoch: 1, Batch: 300, Accuracy: 73.61%, Loss: 0.128041\n",
      "Epoch: 1, Batch: 450, Accuracy: 81.03%, Loss: 0.188877\n",
      "Epoch: 1, Batch: 600, Accuracy: 84.95%, Loss: 0.084633\n",
      "Epoch: 1, Batch: 750, Accuracy: 87.42%, Loss: 0.062166\n",
      "Epoch: 1, Batch: 900, Accuracy: 89.09%, Loss: 0.127970\n",
      "Epoch: 1, Batch: 938, Accuracy: 89.42%, Loss: 0.293701\n",
      "Epoch: 2, Batch: 150, Accuracy: 98.01%, Loss: 0.011474\n",
      "Epoch: 2, Batch: 300, Accuracy: 98.10%, Loss: 0.096434\n",
      "Epoch: 2, Batch: 450, Accuracy: 98.02%, Loss: 0.030951\n",
      "Epoch: 2, Batch: 600, Accuracy: 98.10%, Loss: 0.105564\n",
      "Epoch: 2, Batch: 750, Accuracy: 98.12%, Loss: 0.100431\n",
      "Epoch: 2, Batch: 900, Accuracy: 98.18%, Loss: 0.029088\n",
      "Epoch: 2, Batch: 938, Accuracy: 98.17%, Loss: 0.056274\n",
      "Epoch: 3, Batch: 150, Accuracy: 98.51%, Loss: 0.088334\n",
      "Epoch: 3, Batch: 300, Accuracy: 98.58%, Loss: 0.014666\n",
      "Epoch: 3, Batch: 450, Accuracy: 98.58%, Loss: 0.110223\n",
      "Epoch: 3, Batch: 600, Accuracy: 98.65%, Loss: 0.004916\n",
      "Epoch: 3, Batch: 750, Accuracy: 98.65%, Loss: 0.004856\n",
      "Epoch: 3, Batch: 900, Accuracy: 98.66%, Loss: 0.067313\n",
      "Epoch: 3, Batch: 938, Accuracy: 98.65%, Loss: 0.001207\n",
      "Epoch: 4, Batch: 150, Accuracy: 98.93%, Loss: 0.022741\n",
      "Epoch: 4, Batch: 300, Accuracy: 98.87%, Loss: 0.070668\n",
      "Epoch: 4, Batch: 450, Accuracy: 98.89%, Loss: 0.107243\n",
      "Epoch: 4, Batch: 600, Accuracy: 98.88%, Loss: 0.004264\n",
      "Epoch: 4, Batch: 750, Accuracy: 98.88%, Loss: 0.004335\n",
      "Epoch: 4, Batch: 900, Accuracy: 98.87%, Loss: 0.033146\n",
      "Epoch: 4, Batch: 938, Accuracy: 98.87%, Loss: 0.076802\n",
      "Epoch: 5, Batch: 150, Accuracy: 99.24%, Loss: 0.089865\n",
      "Epoch: 5, Batch: 300, Accuracy: 99.16%, Loss: 0.003406\n",
      "Epoch: 5, Batch: 450, Accuracy: 99.13%, Loss: 0.001137\n",
      "Epoch: 5, Batch: 600, Accuracy: 99.08%, Loss: 0.062008\n",
      "Epoch: 5, Batch: 750, Accuracy: 99.11%, Loss: 0.000588\n",
      "Epoch: 5, Batch: 900, Accuracy: 99.09%, Loss: 0.139812\n",
      "Epoch: 5, Batch: 938, Accuracy: 99.08%, Loss: 0.001334\n",
      "Epoch: 6, Batch: 150, Accuracy: 99.07%, Loss: 0.019998\n",
      "Epoch: 6, Batch: 300, Accuracy: 99.12%, Loss: 0.003918\n",
      "Epoch: 6, Batch: 450, Accuracy: 99.19%, Loss: 0.014715\n",
      "Epoch: 6, Batch: 600, Accuracy: 99.22%, Loss: 0.001286\n",
      "Epoch: 6, Batch: 750, Accuracy: 99.21%, Loss: 0.009796\n",
      "Epoch: 6, Batch: 900, Accuracy: 99.22%, Loss: 0.090007\n",
      "Epoch: 6, Batch: 938, Accuracy: 99.22%, Loss: 0.119836\n",
      "Epoch: 7, Batch: 150, Accuracy: 99.49%, Loss: 0.013688\n",
      "Epoch: 7, Batch: 300, Accuracy: 99.38%, Loss: 0.062122\n",
      "Epoch: 7, Batch: 450, Accuracy: 99.35%, Loss: 0.075156\n",
      "Epoch: 7, Batch: 600, Accuracy: 99.31%, Loss: 0.045743\n",
      "Epoch: 7, Batch: 750, Accuracy: 99.33%, Loss: 0.006804\n",
      "Epoch: 7, Batch: 900, Accuracy: 99.33%, Loss: 0.004366\n",
      "Epoch: 7, Batch: 938, Accuracy: 99.33%, Loss: 0.002271\n",
      "Epoch: 8, Batch: 150, Accuracy: 99.49%, Loss: 0.002744\n",
      "Epoch: 8, Batch: 300, Accuracy: 99.51%, Loss: 0.000341\n",
      "Epoch: 8, Batch: 450, Accuracy: 99.50%, Loss: 0.022421\n",
      "Epoch: 8, Batch: 600, Accuracy: 99.48%, Loss: 0.000830\n",
      "Epoch: 8, Batch: 750, Accuracy: 99.48%, Loss: 0.034585\n",
      "Epoch: 8, Batch: 900, Accuracy: 99.43%, Loss: 0.022653\n",
      "Epoch: 8, Batch: 938, Accuracy: 99.41%, Loss: 0.061167\n",
      "Epoch: 9, Batch: 150, Accuracy: 99.41%, Loss: 0.000665\n",
      "Epoch: 9, Batch: 300, Accuracy: 99.55%, Loss: 0.013193\n",
      "Epoch: 9, Batch: 450, Accuracy: 99.51%, Loss: 0.157547\n",
      "Epoch: 9, Batch: 600, Accuracy: 99.49%, Loss: 0.002277\n",
      "Epoch: 9, Batch: 750, Accuracy: 99.49%, Loss: 0.003793\n",
      "Epoch: 9, Batch: 900, Accuracy: 99.51%, Loss: 0.000269\n",
      "Epoch: 9, Batch: 938, Accuracy: 99.51%, Loss: 0.003439\n",
      "Epoch: 10, Batch: 150, Accuracy: 99.57%, Loss: 0.001553\n",
      "Epoch: 10, Batch: 300, Accuracy: 99.58%, Loss: 0.004469\n",
      "Epoch: 10, Batch: 450, Accuracy: 99.59%, Loss: 0.002365\n",
      "Epoch: 10, Batch: 600, Accuracy: 99.62%, Loss: 0.010651\n",
      "Epoch: 10, Batch: 750, Accuracy: 99.61%, Loss: 0.001074\n",
      "Epoch: 10, Batch: 900, Accuracy: 99.60%, Loss: 0.066606\n",
      "Epoch: 10, Batch: 938, Accuracy: 99.60%, Loss: 0.039369\n"
     ]
    }
   ],
   "source": [
    "# Training first model\n",
    "train_loader, test_loader = create_data_loaders(64, 1000)\n",
    "model_one = SimpleCNN()\n",
    "optimizer_one = optim.SGD(model_one.parameters(), lr=0.01, momentum=0.9)\n",
    "loss_function = nn.CrossEntropyLoss()\n",
    "loss_values_one = []\n",
    "accuracy_values_one = []\n",
    "\n",
    "for epoch in range(1, 11):\n",
    "    loss, accuracy = train_network(model_one, loss_function, epoch, train_loader, optimizer_one)\n",
    "    loss_values_one.append(loss)\n",
    "    accuracy_values_one.append(accuracy)"
   ]
  },
  {
   "cell_type": "code",
   "execution_count": 7,
   "id": "2482af8c-fac5-4718-9bf5-a805b896d15e",
   "metadata": {
    "tags": []
   },
   "outputs": [],
   "source": [
    "class AdvancedCNN(nn.Module):\n",
    "    def __init__(self):\n",
    "        super(AdvancedCNN, self).__init__()\n",
    "        self.conv1 = nn.Conv2d(1, 32, 5)\n",
    "        self.conv2 = nn.Conv2d(32, 64, 5)\n",
    "        self.conv3 = nn.Conv2d(64, 64, 5)\n",
    "        self.fc1 = nn.Linear(1024, 256)\n",
    "        self.fc2 = nn.Linear(256, 10)\n",
    "\n",
    "    def forward(self, x):\n",
    "        x = F.relu(self.conv1(x))\n",
    "        x = F.relu(F.max_pool2d(self.conv2(x), 2))\n",
    "        x = F.dropout(x, p=0.5, training=self.training)\n",
    "        x = F.relu(F.max_pool2d(self.conv3(x), 2))\n",
    "        x = F.dropout(x, p=0.5, training=self.training)\n",
    "        x = x.view(x.size(0), -1)\n",
    "        x = F.relu(self.fc1(x))\n",
    "        x = F.dropout(x, training=self.training)\n",
    "        return F.log_softmax(self.fc2(x), dim=1)"
   ]
  },
  {
   "cell_type": "code",
   "execution_count": 8,
   "id": "d5bd9c85-1270-4283-8b24-2efbcf0ff1dd",
   "metadata": {
    "tags": []
   },
   "outputs": [
    {
     "name": "stdout",
     "output_type": "stream",
     "text": [
      "Starting a new epoch\n",
      "Epoch: 1, Batch: 150, Accuracy: 60.55%, Loss: 0.456318\n",
      "Epoch: 1, Batch: 300, Accuracy: 75.65%, Loss: 0.204136\n",
      "Epoch: 1, Batch: 450, Accuracy: 81.73%, Loss: 0.150322\n",
      "Epoch: 1, Batch: 600, Accuracy: 85.02%, Loss: 0.233688\n",
      "Epoch: 1, Batch: 750, Accuracy: 87.17%, Loss: 0.104229\n",
      "Epoch: 1, Batch: 900, Accuracy: 88.72%, Loss: 0.025020\n",
      "Epoch: 1, Batch: 938, Accuracy: 89.04%, Loss: 0.082364\n",
      "Starting a new epoch\n",
      "Epoch: 2, Batch: 150, Accuracy: 96.32%, Loss: 0.033322\n",
      "Epoch: 2, Batch: 300, Accuracy: 96.58%, Loss: 0.035974\n",
      "Epoch: 2, Batch: 450, Accuracy: 96.72%, Loss: 0.037123\n",
      "Epoch: 2, Batch: 600, Accuracy: 96.75%, Loss: 0.167532\n",
      "Epoch: 2, Batch: 750, Accuracy: 96.84%, Loss: 0.027518\n",
      "Epoch: 2, Batch: 900, Accuracy: 96.90%, Loss: 0.109402\n",
      "Epoch: 2, Batch: 938, Accuracy: 96.90%, Loss: 0.012576\n",
      "Starting a new epoch\n",
      "Epoch: 3, Batch: 150, Accuracy: 97.14%, Loss: 0.108505\n",
      "Epoch: 3, Batch: 300, Accuracy: 97.35%, Loss: 0.065481\n",
      "Epoch: 3, Batch: 450, Accuracy: 97.49%, Loss: 0.113853\n",
      "Epoch: 3, Batch: 600, Accuracy: 97.57%, Loss: 0.069114\n",
      "Epoch: 3, Batch: 750, Accuracy: 97.59%, Loss: 0.020694\n",
      "Epoch: 3, Batch: 900, Accuracy: 97.61%, Loss: 0.038962\n",
      "Epoch: 3, Batch: 938, Accuracy: 97.63%, Loss: 0.125403\n",
      "Starting a new epoch\n",
      "Epoch: 4, Batch: 150, Accuracy: 97.80%, Loss: 0.086677\n",
      "Epoch: 4, Batch: 300, Accuracy: 97.96%, Loss: 0.153874\n",
      "Epoch: 4, Batch: 450, Accuracy: 97.90%, Loss: 0.010205\n",
      "Epoch: 4, Batch: 600, Accuracy: 97.93%, Loss: 0.136319\n",
      "Epoch: 4, Batch: 750, Accuracy: 97.98%, Loss: 0.082712\n",
      "Epoch: 4, Batch: 900, Accuracy: 98.00%, Loss: 0.026010\n",
      "Epoch: 4, Batch: 938, Accuracy: 98.03%, Loss: 0.005598\n",
      "Starting a new epoch\n",
      "Epoch: 5, Batch: 150, Accuracy: 98.24%, Loss: 0.080218\n",
      "Epoch: 5, Batch: 300, Accuracy: 98.26%, Loss: 0.026335\n",
      "Epoch: 5, Batch: 450, Accuracy: 98.22%, Loss: 0.054050\n",
      "Epoch: 5, Batch: 600, Accuracy: 98.21%, Loss: 0.044306\n",
      "Epoch: 5, Batch: 750, Accuracy: 98.23%, Loss: 0.058364\n",
      "Epoch: 5, Batch: 900, Accuracy: 98.22%, Loss: 0.009960\n",
      "Epoch: 5, Batch: 938, Accuracy: 98.25%, Loss: 0.025694\n",
      "Starting a new epoch\n",
      "Epoch: 6, Batch: 150, Accuracy: 98.32%, Loss: 0.023440\n",
      "Epoch: 6, Batch: 300, Accuracy: 98.36%, Loss: 0.236926\n",
      "Epoch: 6, Batch: 450, Accuracy: 98.32%, Loss: 0.019989\n",
      "Epoch: 6, Batch: 600, Accuracy: 98.40%, Loss: 0.016769\n",
      "Epoch: 6, Batch: 750, Accuracy: 98.42%, Loss: 0.021784\n",
      "Epoch: 6, Batch: 900, Accuracy: 98.43%, Loss: 0.002205\n",
      "Epoch: 6, Batch: 938, Accuracy: 98.42%, Loss: 0.011348\n",
      "Starting a new epoch\n",
      "Epoch: 7, Batch: 150, Accuracy: 98.27%, Loss: 0.031541\n",
      "Epoch: 7, Batch: 300, Accuracy: 98.48%, Loss: 0.117260\n",
      "Epoch: 7, Batch: 450, Accuracy: 98.56%, Loss: 0.079800\n",
      "Epoch: 7, Batch: 600, Accuracy: 98.54%, Loss: 0.013271\n",
      "Epoch: 7, Batch: 750, Accuracy: 98.53%, Loss: 0.027313\n",
      "Epoch: 7, Batch: 900, Accuracy: 98.56%, Loss: 0.026531\n",
      "Epoch: 7, Batch: 938, Accuracy: 98.55%, Loss: 0.050470\n",
      "Starting a new epoch\n",
      "Epoch: 8, Batch: 150, Accuracy: 98.65%, Loss: 0.007992\n",
      "Epoch: 8, Batch: 300, Accuracy: 98.61%, Loss: 0.089515\n",
      "Epoch: 8, Batch: 450, Accuracy: 98.56%, Loss: 0.048892\n",
      "Epoch: 8, Batch: 600, Accuracy: 98.58%, Loss: 0.301861\n",
      "Epoch: 8, Batch: 750, Accuracy: 98.59%, Loss: 0.014472\n",
      "Epoch: 8, Batch: 900, Accuracy: 98.61%, Loss: 0.008458\n",
      "Epoch: 8, Batch: 938, Accuracy: 98.61%, Loss: 0.017162\n",
      "Starting a new epoch\n",
      "Epoch: 9, Batch: 150, Accuracy: 98.51%, Loss: 0.025247\n",
      "Epoch: 9, Batch: 300, Accuracy: 98.62%, Loss: 0.015517\n",
      "Epoch: 9, Batch: 450, Accuracy: 98.67%, Loss: 0.003787\n",
      "Epoch: 9, Batch: 600, Accuracy: 98.65%, Loss: 0.006539\n",
      "Epoch: 9, Batch: 750, Accuracy: 98.70%, Loss: 0.022850\n",
      "Epoch: 9, Batch: 900, Accuracy: 98.68%, Loss: 0.088903\n",
      "Epoch: 9, Batch: 938, Accuracy: 98.69%, Loss: 0.010518\n",
      "Starting a new epoch\n",
      "Epoch: 10, Batch: 150, Accuracy: 98.81%, Loss: 0.021182\n",
      "Epoch: 10, Batch: 300, Accuracy: 98.77%, Loss: 0.063381\n",
      "Epoch: 10, Batch: 450, Accuracy: 98.77%, Loss: 0.081925\n",
      "Epoch: 10, Batch: 600, Accuracy: 98.77%, Loss: 0.049722\n",
      "Epoch: 10, Batch: 750, Accuracy: 98.78%, Loss: 0.112540\n",
      "Epoch: 10, Batch: 900, Accuracy: 98.80%, Loss: 0.003717\n",
      "Epoch: 10, Batch: 938, Accuracy: 98.79%, Loss: 0.024676\n"
     ]
    },
    {
     "data": {
      "image/png": "[encoded data removed]",
      "text/plain": [
       "<Figure size 640x480 with 1 Axes>"
      ]
     },
     "metadata": {},
     "output_type": "display_data"
    },
    {
     "data": {
      "image/png": "[encoded data removed]",
      "text/plain": [
       "<Figure size 640x480 with 1 Axes>"
      ]
     },
     "metadata": {},
     "output_type": "display_data"
    }
   ],
   "source": [
    "# Training second model\n",
    "train_loader, test_loader = create_data_loaders(64, 1000)\n",
    "model_two = AdvancedCNN()\n",
    "optimizer_two = optim.SGD(model_two.parameters(), lr=0.01, momentum=0.9)\n",
    "loss_values_two = []\n",
    "accuracy_values_two = []\n",
    "\n",
    "for epoch in range(1, 11):\n",
    "    print('Starting a new epoch')\n",
    "    loss, accuracy = train_network(model_two, loss_function, epoch, train_loader, optimizer_two)\n",
    "    loss_values_two.append(loss)\n",
    "    accuracy_values_two.append(accuracy)\n",
    "\n",
    "# Plotting results\n",
    "plt.xlabel('Epoch')\n",
    "plt.ylabel('Accuracy')\n",
    "plt.plot(np.arange(1, 11), accuracy_values_one, color=\"purple\")\n",
    "plt.plot(np.arange(1, 11), accuracy_values_two, color=\"orange\")\n",
    "plt.legend(['Model 1', 'Model 2'])\n",
    "plt.show()\n",
    "\n",
    "plt.xlabel('Epoch')\n",
    "plt.ylabel('Loss')\n",
    "plt.plot(np.arange(1, 11), loss_values_one, color=\"purple\")\n",
    "plt.plot(np.arange(1, 11), loss_values_two, color=\"orange\")\n",
    "plt.legend(['Model 1', 'Model 2'])\n",
    "plt.show()"
   ]
  },
  {
   "cell_type": "code",
   "execution_count": null,
   "id": "cf765a6d-d846-47af-ba30-2a11dfb6ff66",
   "metadata": {},
   "outputs": [],
   "source": []
  }
 ],
 "metadata": {
  "kernelspec": {
   "display_name": "Python 3 (ipykernel)",
   "language": "python",
   "name": "python3"
  },
  "language_info": {
   "codemirror_mode": {
    "name": "ipython",
    "version": 3
   },
   "file_extension": ".py",
   "mimetype": "text/x-python",
   "name": "python",
   "nbconvert_exporter": "python",
   "pygments_lexer": "ipython3",
   "version": "3.11.5"
  }
 },
 "nbformat": 4,
 "nbformat_minor": 5
}
